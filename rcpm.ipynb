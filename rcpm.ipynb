{
 "cells": [
  {
   "cell_type": "code",
   "execution_count": 2,
   "metadata": {},
   "outputs": [],
   "source": [
    "import pandas as pd\n",
    "import numpy as np\n",
    "from collections import deque\n",
    "from tqdm import tqdm\n",
    "import sqlite3"
   ]
  },
  {
   "cell_type": "code",
   "execution_count": 3,
   "metadata": {},
   "outputs": [],
   "source": [
    "art_path = \"C:/Users/egor1/Desktop/Work/RQC/PZM/data/input/ART.xlsx\"\n",
    "cade_path = \"C:/Users/egor1/Desktop/Work/RQC/PZM/data/input/CADE.xlsx\"\n",
    "gamm_path = \"C:/Users/egor1/Desktop/Work/RQC/PZM/data/input/GAMM.xlsx\"\n",
    "links_path = \"C:/Users/egor1/Desktop/Work/RQC/PZM/data/input/LINKS.xlsx\"\n",
    "mach_path = \"C:/Users/egor1/Desktop/Work/RQC/PZM/data/input/MACH.xlsx\"\n",
    "maint_path = \"C:/Users/egor1/Desktop/Work/RQC/PZM/data/input/MAINT.xlsx\"\n",
    "pick_path = \"C:/Users/egor1/Desktop/Work/RQC/PZM/data/input/PICKLIST.xlsx\"\n",
    "orders_path = \"C:/Users/egor1/Desktop/Work/RQC/PZM/data/input/PZM_1C_ORDERS.xlsx\"\n",
    "serie_path = \"C:/Users/egor1/Desktop/Work/RQC/PZM/data/input/PZM_SERIE.xlsx\""
   ]
  },
  {
   "cell_type": "code",
   "execution_count": 4,
   "metadata": {},
   "outputs": [
    {
     "ename": "KeyboardInterrupt",
     "evalue": "",
     "output_type": "error",
     "traceback": [
      "\u001b[1;31m---------------------------------------------------------------------------\u001b[0m",
      "\u001b[1;31mKeyboardInterrupt\u001b[0m                         Traceback (most recent call last)",
      "Cell \u001b[1;32mIn[4], line 2\u001b[0m\n\u001b[0;32m      1\u001b[0m df_art \u001b[38;5;241m=\u001b[39m pd\u001b[38;5;241m.\u001b[39mread_excel(art_path, engine\u001b[38;5;241m=\u001b[39m\u001b[38;5;124m'\u001b[39m\u001b[38;5;124mopenpyxl\u001b[39m\u001b[38;5;124m'\u001b[39m)\n\u001b[1;32m----> 2\u001b[0m df_cade \u001b[38;5;241m=\u001b[39m \u001b[43mpd\u001b[49m\u001b[38;5;241;43m.\u001b[39;49m\u001b[43mread_excel\u001b[49m\u001b[43m(\u001b[49m\u001b[43mcade_path\u001b[49m\u001b[43m,\u001b[49m\u001b[43m \u001b[49m\u001b[43mengine\u001b[49m\u001b[38;5;241;43m=\u001b[39;49m\u001b[38;5;124;43m'\u001b[39;49m\u001b[38;5;124;43mopenpyxl\u001b[39;49m\u001b[38;5;124;43m'\u001b[39;49m\u001b[43m)\u001b[49m\n\u001b[0;32m      3\u001b[0m df_gamm \u001b[38;5;241m=\u001b[39m pd\u001b[38;5;241m.\u001b[39mread_excel(gamm_path, engine\u001b[38;5;241m=\u001b[39m\u001b[38;5;124m'\u001b[39m\u001b[38;5;124mopenpyxl\u001b[39m\u001b[38;5;124m'\u001b[39m)\n\u001b[0;32m      4\u001b[0m df_links \u001b[38;5;241m=\u001b[39m pd\u001b[38;5;241m.\u001b[39mread_excel(links_path, engine\u001b[38;5;241m=\u001b[39m\u001b[38;5;124m'\u001b[39m\u001b[38;5;124mopenpyxl\u001b[39m\u001b[38;5;124m'\u001b[39m)\n",
      "File \u001b[1;32m~\\AppData\\Local\\Packages\\PythonSoftwareFoundation.Python.3.9_qbz5n2kfra8p0\\LocalCache\\local-packages\\Python39\\site-packages\\pandas\\io\\excel\\_base.py:508\u001b[0m, in \u001b[0;36mread_excel\u001b[1;34m(io, sheet_name, header, names, index_col, usecols, dtype, engine, converters, true_values, false_values, skiprows, nrows, na_values, keep_default_na, na_filter, verbose, parse_dates, date_parser, date_format, thousands, decimal, comment, skipfooter, storage_options, dtype_backend, engine_kwargs)\u001b[0m\n\u001b[0;32m    502\u001b[0m     \u001b[38;5;28;01mraise\u001b[39;00m \u001b[38;5;167;01mValueError\u001b[39;00m(\n\u001b[0;32m    503\u001b[0m         \u001b[38;5;124m\"\u001b[39m\u001b[38;5;124mEngine should not be specified when passing \u001b[39m\u001b[38;5;124m\"\u001b[39m\n\u001b[0;32m    504\u001b[0m         \u001b[38;5;124m\"\u001b[39m\u001b[38;5;124man ExcelFile - ExcelFile already has the engine set\u001b[39m\u001b[38;5;124m\"\u001b[39m\n\u001b[0;32m    505\u001b[0m     )\n\u001b[0;32m    507\u001b[0m \u001b[38;5;28;01mtry\u001b[39;00m:\n\u001b[1;32m--> 508\u001b[0m     data \u001b[38;5;241m=\u001b[39m \u001b[43mio\u001b[49m\u001b[38;5;241;43m.\u001b[39;49m\u001b[43mparse\u001b[49m\u001b[43m(\u001b[49m\n\u001b[0;32m    509\u001b[0m \u001b[43m        \u001b[49m\u001b[43msheet_name\u001b[49m\u001b[38;5;241;43m=\u001b[39;49m\u001b[43msheet_name\u001b[49m\u001b[43m,\u001b[49m\n\u001b[0;32m    510\u001b[0m \u001b[43m        \u001b[49m\u001b[43mheader\u001b[49m\u001b[38;5;241;43m=\u001b[39;49m\u001b[43mheader\u001b[49m\u001b[43m,\u001b[49m\n\u001b[0;32m    511\u001b[0m \u001b[43m        \u001b[49m\u001b[43mnames\u001b[49m\u001b[38;5;241;43m=\u001b[39;49m\u001b[43mnames\u001b[49m\u001b[43m,\u001b[49m\n\u001b[0;32m    512\u001b[0m \u001b[43m        \u001b[49m\u001b[43mindex_col\u001b[49m\u001b[38;5;241;43m=\u001b[39;49m\u001b[43mindex_col\u001b[49m\u001b[43m,\u001b[49m\n\u001b[0;32m    513\u001b[0m \u001b[43m        \u001b[49m\u001b[43musecols\u001b[49m\u001b[38;5;241;43m=\u001b[39;49m\u001b[43musecols\u001b[49m\u001b[43m,\u001b[49m\n\u001b[0;32m    514\u001b[0m \u001b[43m        \u001b[49m\u001b[43mdtype\u001b[49m\u001b[38;5;241;43m=\u001b[39;49m\u001b[43mdtype\u001b[49m\u001b[43m,\u001b[49m\n\u001b[0;32m    515\u001b[0m \u001b[43m        \u001b[49m\u001b[43mconverters\u001b[49m\u001b[38;5;241;43m=\u001b[39;49m\u001b[43mconverters\u001b[49m\u001b[43m,\u001b[49m\n\u001b[0;32m    516\u001b[0m \u001b[43m        \u001b[49m\u001b[43mtrue_values\u001b[49m\u001b[38;5;241;43m=\u001b[39;49m\u001b[43mtrue_values\u001b[49m\u001b[43m,\u001b[49m\n\u001b[0;32m    517\u001b[0m \u001b[43m        \u001b[49m\u001b[43mfalse_values\u001b[49m\u001b[38;5;241;43m=\u001b[39;49m\u001b[43mfalse_values\u001b[49m\u001b[43m,\u001b[49m\n\u001b[0;32m    518\u001b[0m \u001b[43m        \u001b[49m\u001b[43mskiprows\u001b[49m\u001b[38;5;241;43m=\u001b[39;49m\u001b[43mskiprows\u001b[49m\u001b[43m,\u001b[49m\n\u001b[0;32m    519\u001b[0m \u001b[43m        \u001b[49m\u001b[43mnrows\u001b[49m\u001b[38;5;241;43m=\u001b[39;49m\u001b[43mnrows\u001b[49m\u001b[43m,\u001b[49m\n\u001b[0;32m    520\u001b[0m \u001b[43m        \u001b[49m\u001b[43mna_values\u001b[49m\u001b[38;5;241;43m=\u001b[39;49m\u001b[43mna_values\u001b[49m\u001b[43m,\u001b[49m\n\u001b[0;32m    521\u001b[0m \u001b[43m        \u001b[49m\u001b[43mkeep_default_na\u001b[49m\u001b[38;5;241;43m=\u001b[39;49m\u001b[43mkeep_default_na\u001b[49m\u001b[43m,\u001b[49m\n\u001b[0;32m    522\u001b[0m \u001b[43m        \u001b[49m\u001b[43mna_filter\u001b[49m\u001b[38;5;241;43m=\u001b[39;49m\u001b[43mna_filter\u001b[49m\u001b[43m,\u001b[49m\n\u001b[0;32m    523\u001b[0m \u001b[43m        \u001b[49m\u001b[43mverbose\u001b[49m\u001b[38;5;241;43m=\u001b[39;49m\u001b[43mverbose\u001b[49m\u001b[43m,\u001b[49m\n\u001b[0;32m    524\u001b[0m \u001b[43m        \u001b[49m\u001b[43mparse_dates\u001b[49m\u001b[38;5;241;43m=\u001b[39;49m\u001b[43mparse_dates\u001b[49m\u001b[43m,\u001b[49m\n\u001b[0;32m    525\u001b[0m \u001b[43m        \u001b[49m\u001b[43mdate_parser\u001b[49m\u001b[38;5;241;43m=\u001b[39;49m\u001b[43mdate_parser\u001b[49m\u001b[43m,\u001b[49m\n\u001b[0;32m    526\u001b[0m \u001b[43m        \u001b[49m\u001b[43mdate_format\u001b[49m\u001b[38;5;241;43m=\u001b[39;49m\u001b[43mdate_format\u001b[49m\u001b[43m,\u001b[49m\n\u001b[0;32m    527\u001b[0m \u001b[43m        \u001b[49m\u001b[43mthousands\u001b[49m\u001b[38;5;241;43m=\u001b[39;49m\u001b[43mthousands\u001b[49m\u001b[43m,\u001b[49m\n\u001b[0;32m    528\u001b[0m \u001b[43m        \u001b[49m\u001b[43mdecimal\u001b[49m\u001b[38;5;241;43m=\u001b[39;49m\u001b[43mdecimal\u001b[49m\u001b[43m,\u001b[49m\n\u001b[0;32m    529\u001b[0m \u001b[43m        \u001b[49m\u001b[43mcomment\u001b[49m\u001b[38;5;241;43m=\u001b[39;49m\u001b[43mcomment\u001b[49m\u001b[43m,\u001b[49m\n\u001b[0;32m    530\u001b[0m \u001b[43m        \u001b[49m\u001b[43mskipfooter\u001b[49m\u001b[38;5;241;43m=\u001b[39;49m\u001b[43mskipfooter\u001b[49m\u001b[43m,\u001b[49m\n\u001b[0;32m    531\u001b[0m \u001b[43m        \u001b[49m\u001b[43mdtype_backend\u001b[49m\u001b[38;5;241;43m=\u001b[39;49m\u001b[43mdtype_backend\u001b[49m\u001b[43m,\u001b[49m\n\u001b[0;32m    532\u001b[0m \u001b[43m    \u001b[49m\u001b[43m)\u001b[49m\n\u001b[0;32m    533\u001b[0m \u001b[38;5;28;01mfinally\u001b[39;00m:\n\u001b[0;32m    534\u001b[0m     \u001b[38;5;66;03m# make sure to close opened file handles\u001b[39;00m\n\u001b[0;32m    535\u001b[0m     \u001b[38;5;28;01mif\u001b[39;00m should_close:\n",
      "File \u001b[1;32m~\\AppData\\Local\\Packages\\PythonSoftwareFoundation.Python.3.9_qbz5n2kfra8p0\\LocalCache\\local-packages\\Python39\\site-packages\\pandas\\io\\excel\\_base.py:1616\u001b[0m, in \u001b[0;36mExcelFile.parse\u001b[1;34m(self, sheet_name, header, names, index_col, usecols, converters, true_values, false_values, skiprows, nrows, na_values, parse_dates, date_parser, date_format, thousands, comment, skipfooter, dtype_backend, **kwds)\u001b[0m\n\u001b[0;32m   1576\u001b[0m \u001b[38;5;28;01mdef\u001b[39;00m \u001b[38;5;21mparse\u001b[39m(\n\u001b[0;32m   1577\u001b[0m     \u001b[38;5;28mself\u001b[39m,\n\u001b[0;32m   1578\u001b[0m     sheet_name: \u001b[38;5;28mstr\u001b[39m \u001b[38;5;241m|\u001b[39m \u001b[38;5;28mint\u001b[39m \u001b[38;5;241m|\u001b[39m \u001b[38;5;28mlist\u001b[39m[\u001b[38;5;28mint\u001b[39m] \u001b[38;5;241m|\u001b[39m \u001b[38;5;28mlist\u001b[39m[\u001b[38;5;28mstr\u001b[39m] \u001b[38;5;241m|\u001b[39m \u001b[38;5;28;01mNone\u001b[39;00m \u001b[38;5;241m=\u001b[39m \u001b[38;5;241m0\u001b[39m,\n\u001b[1;32m   (...)\u001b[0m\n\u001b[0;32m   1596\u001b[0m     \u001b[38;5;241m*\u001b[39m\u001b[38;5;241m*\u001b[39mkwds,\n\u001b[0;32m   1597\u001b[0m ) \u001b[38;5;241m-\u001b[39m\u001b[38;5;241m>\u001b[39m DataFrame \u001b[38;5;241m|\u001b[39m \u001b[38;5;28mdict\u001b[39m[\u001b[38;5;28mstr\u001b[39m, DataFrame] \u001b[38;5;241m|\u001b[39m \u001b[38;5;28mdict\u001b[39m[\u001b[38;5;28mint\u001b[39m, DataFrame]:\n\u001b[0;32m   1598\u001b[0m     \u001b[38;5;124;03m\"\"\"\u001b[39;00m\n\u001b[0;32m   1599\u001b[0m \u001b[38;5;124;03m    Parse specified sheet(s) into a DataFrame.\u001b[39;00m\n\u001b[0;32m   1600\u001b[0m \n\u001b[1;32m   (...)\u001b[0m\n\u001b[0;32m   1614\u001b[0m \u001b[38;5;124;03m    >>> file.parse()  # doctest: +SKIP\u001b[39;00m\n\u001b[0;32m   1615\u001b[0m \u001b[38;5;124;03m    \"\"\"\u001b[39;00m\n\u001b[1;32m-> 1616\u001b[0m     \u001b[38;5;28;01mreturn\u001b[39;00m \u001b[38;5;28mself\u001b[39m\u001b[38;5;241m.\u001b[39m_reader\u001b[38;5;241m.\u001b[39mparse(\n\u001b[0;32m   1617\u001b[0m         sheet_name\u001b[38;5;241m=\u001b[39msheet_name,\n\u001b[0;32m   1618\u001b[0m         header\u001b[38;5;241m=\u001b[39mheader,\n\u001b[0;32m   1619\u001b[0m         names\u001b[38;5;241m=\u001b[39mnames,\n\u001b[0;32m   1620\u001b[0m         index_col\u001b[38;5;241m=\u001b[39mindex_col,\n\u001b[0;32m   1621\u001b[0m         usecols\u001b[38;5;241m=\u001b[39musecols,\n\u001b[0;32m   1622\u001b[0m         converters\u001b[38;5;241m=\u001b[39mconverters,\n\u001b[0;32m   1623\u001b[0m         true_values\u001b[38;5;241m=\u001b[39mtrue_values,\n\u001b[0;32m   1624\u001b[0m         false_values\u001b[38;5;241m=\u001b[39mfalse_values,\n\u001b[0;32m   1625\u001b[0m         skiprows\u001b[38;5;241m=\u001b[39mskiprows,\n\u001b[0;32m   1626\u001b[0m         nrows\u001b[38;5;241m=\u001b[39mnrows,\n\u001b[0;32m   1627\u001b[0m         na_values\u001b[38;5;241m=\u001b[39mna_values,\n\u001b[0;32m   1628\u001b[0m         parse_dates\u001b[38;5;241m=\u001b[39mparse_dates,\n\u001b[0;32m   1629\u001b[0m         date_parser\u001b[38;5;241m=\u001b[39mdate_parser,\n\u001b[0;32m   1630\u001b[0m         date_format\u001b[38;5;241m=\u001b[39mdate_format,\n\u001b[0;32m   1631\u001b[0m         thousands\u001b[38;5;241m=\u001b[39mthousands,\n\u001b[0;32m   1632\u001b[0m         comment\u001b[38;5;241m=\u001b[39mcomment,\n\u001b[0;32m   1633\u001b[0m         skipfooter\u001b[38;5;241m=\u001b[39mskipfooter,\n\u001b[0;32m   1634\u001b[0m         dtype_backend\u001b[38;5;241m=\u001b[39mdtype_backend,\n\u001b[0;32m   1635\u001b[0m         \u001b[38;5;241m*\u001b[39m\u001b[38;5;241m*\u001b[39mkwds,\n\u001b[0;32m   1636\u001b[0m     )\n",
      "File \u001b[1;32m~\\AppData\\Local\\Packages\\PythonSoftwareFoundation.Python.3.9_qbz5n2kfra8p0\\LocalCache\\local-packages\\Python39\\site-packages\\pandas\\io\\excel\\_base.py:778\u001b[0m, in \u001b[0;36mBaseExcelReader.parse\u001b[1;34m(self, sheet_name, header, names, index_col, usecols, dtype, true_values, false_values, skiprows, nrows, na_values, verbose, parse_dates, date_parser, date_format, thousands, decimal, comment, skipfooter, dtype_backend, **kwds)\u001b[0m\n\u001b[0;32m    775\u001b[0m     sheet \u001b[38;5;241m=\u001b[39m \u001b[38;5;28mself\u001b[39m\u001b[38;5;241m.\u001b[39mget_sheet_by_index(asheetname)\n\u001b[0;32m    777\u001b[0m file_rows_needed \u001b[38;5;241m=\u001b[39m \u001b[38;5;28mself\u001b[39m\u001b[38;5;241m.\u001b[39m_calc_rows(header, index_col, skiprows, nrows)\n\u001b[1;32m--> 778\u001b[0m data \u001b[38;5;241m=\u001b[39m \u001b[38;5;28;43mself\u001b[39;49m\u001b[38;5;241;43m.\u001b[39;49m\u001b[43mget_sheet_data\u001b[49m\u001b[43m(\u001b[49m\u001b[43msheet\u001b[49m\u001b[43m,\u001b[49m\u001b[43m \u001b[49m\u001b[43mfile_rows_needed\u001b[49m\u001b[43m)\u001b[49m\n\u001b[0;32m    779\u001b[0m \u001b[38;5;28;01mif\u001b[39;00m \u001b[38;5;28mhasattr\u001b[39m(sheet, \u001b[38;5;124m\"\u001b[39m\u001b[38;5;124mclose\u001b[39m\u001b[38;5;124m\"\u001b[39m):\n\u001b[0;32m    780\u001b[0m     \u001b[38;5;66;03m# pyxlsb opens two TemporaryFiles\u001b[39;00m\n\u001b[0;32m    781\u001b[0m     sheet\u001b[38;5;241m.\u001b[39mclose()\n",
      "File \u001b[1;32m~\\AppData\\Local\\Packages\\PythonSoftwareFoundation.Python.3.9_qbz5n2kfra8p0\\LocalCache\\local-packages\\Python39\\site-packages\\pandas\\io\\excel\\_openpyxl.py:615\u001b[0m, in \u001b[0;36mOpenpyxlReader.get_sheet_data\u001b[1;34m(self, sheet, file_rows_needed)\u001b[0m\n\u001b[0;32m    613\u001b[0m data: \u001b[38;5;28mlist\u001b[39m[\u001b[38;5;28mlist\u001b[39m[Scalar]] \u001b[38;5;241m=\u001b[39m []\n\u001b[0;32m    614\u001b[0m last_row_with_data \u001b[38;5;241m=\u001b[39m \u001b[38;5;241m-\u001b[39m\u001b[38;5;241m1\u001b[39m\n\u001b[1;32m--> 615\u001b[0m \u001b[38;5;28;01mfor\u001b[39;00m row_number, row \u001b[38;5;129;01min\u001b[39;00m \u001b[38;5;28menumerate\u001b[39m(sheet\u001b[38;5;241m.\u001b[39mrows):\n\u001b[0;32m    616\u001b[0m     converted_row \u001b[38;5;241m=\u001b[39m [\u001b[38;5;28mself\u001b[39m\u001b[38;5;241m.\u001b[39m_convert_cell(cell) \u001b[38;5;28;01mfor\u001b[39;00m cell \u001b[38;5;129;01min\u001b[39;00m row]\n\u001b[0;32m    617\u001b[0m     \u001b[38;5;28;01mwhile\u001b[39;00m converted_row \u001b[38;5;129;01mand\u001b[39;00m converted_row[\u001b[38;5;241m-\u001b[39m\u001b[38;5;241m1\u001b[39m] \u001b[38;5;241m==\u001b[39m \u001b[38;5;124m\"\u001b[39m\u001b[38;5;124m\"\u001b[39m:\n\u001b[0;32m    618\u001b[0m         \u001b[38;5;66;03m# trim trailing empty elements\u001b[39;00m\n",
      "File \u001b[1;32m~\\AppData\\Local\\Packages\\PythonSoftwareFoundation.Python.3.9_qbz5n2kfra8p0\\LocalCache\\local-packages\\Python39\\site-packages\\openpyxl\\worksheet\\_read_only.py:81\u001b[0m, in \u001b[0;36mReadOnlyWorksheet._cells_by_row\u001b[1;34m(self, min_col, min_row, max_col, max_row, values_only)\u001b[0m\n\u001b[0;32m     77\u001b[0m src \u001b[38;5;241m=\u001b[39m \u001b[38;5;28mself\u001b[39m\u001b[38;5;241m.\u001b[39m_get_source()\n\u001b[0;32m     78\u001b[0m parser \u001b[38;5;241m=\u001b[39m WorkSheetParser(src, \u001b[38;5;28mself\u001b[39m\u001b[38;5;241m.\u001b[39m_shared_strings,\n\u001b[0;32m     79\u001b[0m                          data_only\u001b[38;5;241m=\u001b[39m\u001b[38;5;28mself\u001b[39m\u001b[38;5;241m.\u001b[39mparent\u001b[38;5;241m.\u001b[39mdata_only, epoch\u001b[38;5;241m=\u001b[39m\u001b[38;5;28mself\u001b[39m\u001b[38;5;241m.\u001b[39mparent\u001b[38;5;241m.\u001b[39mepoch,\n\u001b[0;32m     80\u001b[0m                          date_formats\u001b[38;5;241m=\u001b[39m\u001b[38;5;28mself\u001b[39m\u001b[38;5;241m.\u001b[39mparent\u001b[38;5;241m.\u001b[39m_date_formats)\n\u001b[1;32m---> 81\u001b[0m \u001b[38;5;28;01mfor\u001b[39;00m idx, row \u001b[38;5;129;01min\u001b[39;00m parser\u001b[38;5;241m.\u001b[39mparse():\n\u001b[0;32m     82\u001b[0m     \u001b[38;5;28;01mif\u001b[39;00m max_row \u001b[38;5;129;01mis\u001b[39;00m \u001b[38;5;129;01mnot\u001b[39;00m \u001b[38;5;28;01mNone\u001b[39;00m \u001b[38;5;129;01mand\u001b[39;00m idx \u001b[38;5;241m>\u001b[39m max_row:\n\u001b[0;32m     83\u001b[0m         \u001b[38;5;28;01mbreak\u001b[39;00m\n",
      "File \u001b[1;32m~\\AppData\\Local\\Packages\\PythonSoftwareFoundation.Python.3.9_qbz5n2kfra8p0\\LocalCache\\local-packages\\Python39\\site-packages\\openpyxl\\worksheet\\_reader.py:156\u001b[0m, in \u001b[0;36mWorkSheetParser.parse\u001b[1;34m(self)\u001b[0m\n\u001b[0;32m    137\u001b[0m properties \u001b[38;5;241m=\u001b[39m {\n\u001b[0;32m    138\u001b[0m     PRINT_TAG: (\u001b[38;5;124m'\u001b[39m\u001b[38;5;124mprint_options\u001b[39m\u001b[38;5;124m'\u001b[39m, PrintOptions),\n\u001b[0;32m    139\u001b[0m     MARGINS_TAG: (\u001b[38;5;124m'\u001b[39m\u001b[38;5;124mpage_margins\u001b[39m\u001b[38;5;124m'\u001b[39m, PageMargins),\n\u001b[1;32m   (...)\u001b[0m\n\u001b[0;32m    151\u001b[0m \n\u001b[0;32m    152\u001b[0m }\n\u001b[0;32m    154\u001b[0m it \u001b[38;5;241m=\u001b[39m iterparse(\u001b[38;5;28mself\u001b[39m\u001b[38;5;241m.\u001b[39msource) \u001b[38;5;66;03m# add a finaliser to close the source when this becomes possible\u001b[39;00m\n\u001b[1;32m--> 156\u001b[0m \u001b[38;5;28;01mfor\u001b[39;00m _, element \u001b[38;5;129;01min\u001b[39;00m it:\n\u001b[0;32m    157\u001b[0m     tag_name \u001b[38;5;241m=\u001b[39m element\u001b[38;5;241m.\u001b[39mtag\n\u001b[0;32m    158\u001b[0m     \u001b[38;5;28;01mif\u001b[39;00m tag_name \u001b[38;5;129;01min\u001b[39;00m dispatcher:\n",
      "File \u001b[1;32mC:\\Program Files\\WindowsApps\\PythonSoftwareFoundation.Python.3.9_3.9.3568.0_x64__qbz5n2kfra8p0\\lib\\xml\\etree\\ElementTree.py:1257\u001b[0m, in \u001b[0;36miterparse.<locals>.iterator\u001b[1;34m(source)\u001b[0m\n\u001b[0;32m   1255\u001b[0m \u001b[38;5;28;01myield from\u001b[39;00m pullparser\u001b[38;5;241m.\u001b[39mread_events()\n\u001b[0;32m   1256\u001b[0m \u001b[38;5;66;03m# load event buffer\u001b[39;00m\n\u001b[1;32m-> 1257\u001b[0m data \u001b[38;5;241m=\u001b[39m \u001b[43msource\u001b[49m\u001b[38;5;241;43m.\u001b[39;49m\u001b[43mread\u001b[49m\u001b[43m(\u001b[49m\u001b[38;5;241;43m16\u001b[39;49m\u001b[43m \u001b[49m\u001b[38;5;241;43m*\u001b[39;49m\u001b[43m \u001b[49m\u001b[38;5;241;43m1024\u001b[39;49m\u001b[43m)\u001b[49m\n\u001b[0;32m   1258\u001b[0m \u001b[38;5;28;01mif\u001b[39;00m \u001b[38;5;129;01mnot\u001b[39;00m data:\n\u001b[0;32m   1259\u001b[0m     \u001b[38;5;28;01mbreak\u001b[39;00m\n",
      "File \u001b[1;32mC:\\Program Files\\WindowsApps\\PythonSoftwareFoundation.Python.3.9_3.9.3568.0_x64__qbz5n2kfra8p0\\lib\\zipfile.py:924\u001b[0m, in \u001b[0;36mZipExtFile.read\u001b[1;34m(self, n)\u001b[0m\n\u001b[0;32m    922\u001b[0m \u001b[38;5;28mself\u001b[39m\u001b[38;5;241m.\u001b[39m_offset \u001b[38;5;241m=\u001b[39m \u001b[38;5;241m0\u001b[39m\n\u001b[0;32m    923\u001b[0m \u001b[38;5;28;01mwhile\u001b[39;00m n \u001b[38;5;241m>\u001b[39m \u001b[38;5;241m0\u001b[39m \u001b[38;5;129;01mand\u001b[39;00m \u001b[38;5;129;01mnot\u001b[39;00m \u001b[38;5;28mself\u001b[39m\u001b[38;5;241m.\u001b[39m_eof:\n\u001b[1;32m--> 924\u001b[0m     data \u001b[38;5;241m=\u001b[39m \u001b[38;5;28;43mself\u001b[39;49m\u001b[38;5;241;43m.\u001b[39;49m\u001b[43m_read1\u001b[49m\u001b[43m(\u001b[49m\u001b[43mn\u001b[49m\u001b[43m)\u001b[49m\n\u001b[0;32m    925\u001b[0m     \u001b[38;5;28;01mif\u001b[39;00m n \u001b[38;5;241m<\u001b[39m \u001b[38;5;28mlen\u001b[39m(data):\n\u001b[0;32m    926\u001b[0m         \u001b[38;5;28mself\u001b[39m\u001b[38;5;241m.\u001b[39m_readbuffer \u001b[38;5;241m=\u001b[39m data\n",
      "File \u001b[1;32mC:\\Program Files\\WindowsApps\\PythonSoftwareFoundation.Python.3.9_3.9.3568.0_x64__qbz5n2kfra8p0\\lib\\zipfile.py:992\u001b[0m, in \u001b[0;36mZipExtFile._read1\u001b[1;34m(self, n)\u001b[0m\n\u001b[0;32m    990\u001b[0m     data \u001b[38;5;241m=\u001b[39m \u001b[38;5;28mself\u001b[39m\u001b[38;5;241m.\u001b[39m_decompressor\u001b[38;5;241m.\u001b[39munconsumed_tail\n\u001b[0;32m    991\u001b[0m     \u001b[38;5;28;01mif\u001b[39;00m n \u001b[38;5;241m>\u001b[39m \u001b[38;5;28mlen\u001b[39m(data):\n\u001b[1;32m--> 992\u001b[0m         data \u001b[38;5;241m+\u001b[39m\u001b[38;5;241m=\u001b[39m \u001b[38;5;28;43mself\u001b[39;49m\u001b[38;5;241;43m.\u001b[39;49m\u001b[43m_read2\u001b[49m\u001b[43m(\u001b[49m\u001b[43mn\u001b[49m\u001b[43m \u001b[49m\u001b[38;5;241;43m-\u001b[39;49m\u001b[43m \u001b[49m\u001b[38;5;28;43mlen\u001b[39;49m\u001b[43m(\u001b[49m\u001b[43mdata\u001b[49m\u001b[43m)\u001b[49m\u001b[43m)\u001b[49m\n\u001b[0;32m    993\u001b[0m \u001b[38;5;28;01melse\u001b[39;00m:\n\u001b[0;32m    994\u001b[0m     data \u001b[38;5;241m=\u001b[39m \u001b[38;5;28mself\u001b[39m\u001b[38;5;241m.\u001b[39m_read2(n)\n",
      "File \u001b[1;32mC:\\Program Files\\WindowsApps\\PythonSoftwareFoundation.Python.3.9_3.9.3568.0_x64__qbz5n2kfra8p0\\lib\\zipfile.py:1024\u001b[0m, in \u001b[0;36mZipExtFile._read2\u001b[1;34m(self, n)\u001b[0m\n\u001b[0;32m   1021\u001b[0m n \u001b[38;5;241m=\u001b[39m \u001b[38;5;28mmax\u001b[39m(n, \u001b[38;5;28mself\u001b[39m\u001b[38;5;241m.\u001b[39mMIN_READ_SIZE)\n\u001b[0;32m   1022\u001b[0m n \u001b[38;5;241m=\u001b[39m \u001b[38;5;28mmin\u001b[39m(n, \u001b[38;5;28mself\u001b[39m\u001b[38;5;241m.\u001b[39m_compress_left)\n\u001b[1;32m-> 1024\u001b[0m data \u001b[38;5;241m=\u001b[39m \u001b[38;5;28;43mself\u001b[39;49m\u001b[38;5;241;43m.\u001b[39;49m\u001b[43m_fileobj\u001b[49m\u001b[38;5;241;43m.\u001b[39;49m\u001b[43mread\u001b[49m\u001b[43m(\u001b[49m\u001b[43mn\u001b[49m\u001b[43m)\u001b[49m\n\u001b[0;32m   1025\u001b[0m \u001b[38;5;28mself\u001b[39m\u001b[38;5;241m.\u001b[39m_compress_left \u001b[38;5;241m-\u001b[39m\u001b[38;5;241m=\u001b[39m \u001b[38;5;28mlen\u001b[39m(data)\n\u001b[0;32m   1026\u001b[0m \u001b[38;5;28;01mif\u001b[39;00m \u001b[38;5;129;01mnot\u001b[39;00m data:\n",
      "File \u001b[1;32mC:\\Program Files\\WindowsApps\\PythonSoftwareFoundation.Python.3.9_3.9.3568.0_x64__qbz5n2kfra8p0\\lib\\zipfile.py:744\u001b[0m, in \u001b[0;36m_SharedFile.read\u001b[1;34m(self, n)\u001b[0m\n\u001b[0;32m    740\u001b[0m     \u001b[38;5;28;01mraise\u001b[39;00m \u001b[38;5;167;01mValueError\u001b[39;00m(\u001b[38;5;124m\"\u001b[39m\u001b[38;5;124mCan\u001b[39m\u001b[38;5;124m'\u001b[39m\u001b[38;5;124mt read from the ZIP file while there \u001b[39m\u001b[38;5;124m\"\u001b[39m\n\u001b[0;32m    741\u001b[0m             \u001b[38;5;124m\"\u001b[39m\u001b[38;5;124mis an open writing handle on it. \u001b[39m\u001b[38;5;124m\"\u001b[39m\n\u001b[0;32m    742\u001b[0m             \u001b[38;5;124m\"\u001b[39m\u001b[38;5;124mClose the writing handle before trying to read.\u001b[39m\u001b[38;5;124m\"\u001b[39m)\n\u001b[0;32m    743\u001b[0m \u001b[38;5;28mself\u001b[39m\u001b[38;5;241m.\u001b[39m_file\u001b[38;5;241m.\u001b[39mseek(\u001b[38;5;28mself\u001b[39m\u001b[38;5;241m.\u001b[39m_pos)\n\u001b[1;32m--> 744\u001b[0m data \u001b[38;5;241m=\u001b[39m \u001b[38;5;28;43mself\u001b[39;49m\u001b[38;5;241;43m.\u001b[39;49m\u001b[43m_file\u001b[49m\u001b[38;5;241;43m.\u001b[39;49m\u001b[43mread\u001b[49m\u001b[43m(\u001b[49m\u001b[43mn\u001b[49m\u001b[43m)\u001b[49m\n\u001b[0;32m    745\u001b[0m \u001b[38;5;28mself\u001b[39m\u001b[38;5;241m.\u001b[39m_pos \u001b[38;5;241m=\u001b[39m \u001b[38;5;28mself\u001b[39m\u001b[38;5;241m.\u001b[39m_file\u001b[38;5;241m.\u001b[39mtell()\n\u001b[0;32m    746\u001b[0m \u001b[38;5;28;01mreturn\u001b[39;00m data\n",
      "\u001b[1;31mKeyboardInterrupt\u001b[0m: "
     ]
    }
   ],
   "source": [
    "df_art = pd.read_excel(art_path, engine='openpyxl')\n",
    "df_cade = pd.read_excel(cade_path, engine='openpyxl')\n",
    "df_gamm = pd.read_excel(gamm_path, engine='openpyxl')\n",
    "df_links = pd.read_excel(links_path, engine='openpyxl')\n",
    "df_mach = pd.read_excel(mach_path, engine='openpyxl')\n",
    "df_maint = pd.read_excel(maint_path, engine='openpyxl')\n",
    "df_pick = pd.read_excel(pick_path, engine='openpyxl')\n",
    "df_orders = pd.read_excel(orders_path, engine='openpyxl')\n",
    "df_serie = pd.read_excel(serie_path, engine='openpyxl')"
   ]
  },
  {
   "cell_type": "code",
   "execution_count": null,
   "metadata": {},
   "outputs": [],
   "source": [
    "class Operation:\n",
    "    def __init__(self):\n",
    "        self.op_id = None  # глобальный id операции\n",
    "        self.order_id = None  # Номер заказа\n",
    "        self.phase = None  # id операции в технологическом маршруте\n",
    "        self.route = None  # Технологический маршрут\n",
    "        self.duration = None  # Продолжительность операции\n",
    "        \n",
    "        self.predecessors = np.empty(shape=(0,))  # Список предшествующих операций\n",
    "        self.successors = np.empty(shape=(0,))  # Список последующих операций\n",
    "        self.resources = np.empty(shape=(0,))  # Требования по ресурсам\n",
    "\n",
    "        self.early_start = 0\n",
    "        self.early_finish = 0\n",
    "        self.late_start = None\n",
    "        self.late_finish = None\n",
    "        self.is_critical = False\n",
    "\n",
    "        self.machine = None \n",
    "\n",
    "    def set_data(self, op_id, order_id, phase, route, duration, predecessors, successors, resources):\n",
    "        self.op_id = op_id\n",
    "        self.order_id = order_id\n",
    "        self.phase = phase\n",
    "        self.route = route\n",
    "        self.duration = duration\n",
    "\n",
    "        self.predecessors = predecessors\n",
    "        self.successors = successors\n",
    "        self.resources = resources\n",
    "        \n",
    "    def __repr__(self):\n",
    "        return (f\"\\n\\n Operation(op_id={self.op_id},\\n\\t order_id={self.order_id},\\n\\t phase_id={self.phase},\\n\\t route={self.route},\\n\\t \"\n",
    "                f\"duration={self.duration},\\n\\t predecessors={self.predecessors},\\n\\t successors={self.successors},\\n\\t \"\n",
    "                f\"resources={self.resources},\\n\\t machine={self.machine},\\n\\t early_start={self.early_start},\\n\\t early_finish={self.early_finish},\\n\\t \"\n",
    "                f\"late_start={self.late_start},\\n\\t late_finish={self.late_finish},\\n\\t is_critical={self.is_critical})\")\n"
   ]
  },
  {
   "cell_type": "code",
   "execution_count": null,
   "metadata": {},
   "outputs": [],
   "source": [
    "class OperationManager:\n",
    "    def __init__(self):\n",
    "        self.operations = {}  # Словарь для хранения операций по их ID\n",
    "\n",
    "    def add_operation(self, op_id, order_id, phase, route, duration, predecessors, successors, resources):\n",
    "        operation = Operation()\n",
    "        \n",
    "        operation.set_data(op_id, order_id, phase, route, duration, predecessors, successors, resources)\n",
    "        self.operations[op_id] = operation\n",
    "\n",
    "    def get_operation(self, op_id):\n",
    "        return self.operations.get(op_id)\n",
    "\n",
    "    def save_to_csv(self, filename):\n",
    "        data = []\n",
    "        for operation in self.operations.values():\n",
    "            data.append({\n",
    "                'op_id': operation.op_id,\n",
    "                'order_id': operation.order_id,\n",
    "                'phase': operation.phase,\n",
    "                'route': operation.route,\n",
    "                'duration': operation.duration,\n",
    "                'machine': operation.machine,\n",
    "                'early_start': operation.early_start,\n",
    "                'early_finish': operation.early_finish,\n",
    "                'late_start': operation.late_start,\n",
    "                'late_finish': operation.late_finish,\n",
    "                'is_critical': operation.is_critical\n",
    "            })\n",
    "        df = pd.DataFrame(data)\n",
    "        df.to_csv(filename, index=False)\n",
    "\n",
    "    def save_to_db(self, db_filename):\n",
    "        conn = sqlite3.connect(db_filename)\n",
    "        c = conn.cursor()\n",
    "        \n",
    "        c.execute('''CREATE TABLE IF NOT EXISTS operations (\n",
    "                        op_id TEXT PRIMARY KEY,\n",
    "                        order_id TEXT,\n",
    "                        phase TEXT,\n",
    "                        route TEXT,\n",
    "                        duration INTEGER,\n",
    "                        predecessors TEXT,\n",
    "                        successors TEXT,\n",
    "                        resources TEXT,\n",
    "                        early_start INTEGER,\n",
    "                        early_finish INTEGER,\n",
    "                        late_start INTEGER,\n",
    "                        late_finish INTEGER,\n",
    "                        is_critical BOOLEAN,\n",
    "                        machine TEXT)''')\n",
    "        \n",
    "        for operation in self.operations.values():\n",
    "            c.execute('''INSERT OR REPLACE INTO operations (\n",
    "                            op_id, order_id, phase, route, duration, predecessors, successors, resources,\n",
    "                            early_start, early_finish, late_start, late_finish, is_critical, machine)\n",
    "                         VALUES (?, ?, ?, ?, ?, ?, ?, ?, ?, ?, ?, ?, ?, ?)''', \n",
    "                      (operation.op_id, operation.order_id, operation.phase, operation.route, operation.duration,\n",
    "                       ','.join(map(str, operation.predecessors)), ','.join(map(str, operation.successors)),\n",
    "                       ','.join(map(str, operation.resources)), operation.early_start, operation.early_finish,\n",
    "                       operation.late_start, operation.late_finish, operation.is_critical, operation.machine))\n",
    "        \n",
    "        conn.commit()\n",
    "        conn.close()\n",
    "\n",
    "    def load_from_db(self, db_filename):\n",
    "        conn = sqlite3.connect(db_filename)\n",
    "        c = conn.cursor()\n",
    "        \n",
    "        c.execute('SELECT * FROM operations')\n",
    "        rows = c.fetchall()\n",
    "        \n",
    "        for row in rows:\n",
    "            op_id, order_id, phase, route, duration, predecessors, successors, resources, \\\n",
    "            early_start, early_finish, late_start, late_finish, is_critical, machine = row\n",
    "            \n",
    "            operation = Operation()\n",
    "            operation.set_data(op_id, order_id, phase, route, duration,\n",
    "                               predecessors.split(','), successors.split(','), resources.split(','))\n",
    "            operation.early_start = early_start\n",
    "            operation.early_finish = early_finish\n",
    "            operation.late_start = late_start\n",
    "            operation.late_finish = late_finish\n",
    "            operation.is_critical = bool(is_critical)\n",
    "            operation.machine = machine\n",
    "            \n",
    "            self.operations[op_id] = operation\n",
    "        \n",
    "        conn.close()"
   ]
  },
  {
   "cell_type": "code",
   "execution_count": null,
   "metadata": {},
   "outputs": [],
   "source": [
    "def compute_critical_path(manager):\n",
    "    # Инициализация ранних стартов и финишей\n",
    "    for operation in manager.operations.values():\n",
    "        operation.early_start = 0\n",
    "        operation.early_finish = 0\n",
    "\n",
    "    # Прямой проход (Forward Pass)\n",
    "    queue = deque([op_id for op_id, op in manager.operations.items() if len(op.predecessors) == 0])\n",
    "    while queue:\n",
    "        op_id = queue.popleft()\n",
    "        operation = manager.get_operation(op_id)\n",
    "        operation.early_finish = operation.early_start + operation.duration\n",
    "        for succ_id in operation.successors:\n",
    "            successor = manager.get_operation(succ_id)\n",
    "            successor.early_start = max(successor.early_start, operation.early_finish)\n",
    "            queue.append(succ_id)\n",
    "\n",
    "    # Инициализация поздних стартов и финишей\n",
    "    max_early_finish = max([op.early_finish for op in manager.operations.values()])\n",
    "    for operation in manager.operations.values():\n",
    "        operation.late_start = max_early_finish\n",
    "        operation.late_finish = max_early_finish\n",
    "\n",
    "    # Обратный проход (Backward Pass)\n",
    "    queue = deque([op_id for op_id, op in manager.operations.items() if len(op.successors) == 0])\n",
    "    while queue:\n",
    "        op_id = queue.popleft()\n",
    "        operation = manager.get_operation(op_id)\n",
    "        operation.late_start = operation.late_finish - operation.duration\n",
    "        for pred_id in operation.predecessors:\n",
    "            predecessor = manager.get_operation(pred_id)\n",
    "            predecessor.late_finish = min(predecessor.late_finish, operation.late_start)\n",
    "            queue.append(pred_id)\n",
    "\n",
    "    # Определение критического пути\n",
    "    critical_path = []\n",
    "    for op_id, operation in manager.operations.items():\n",
    "        if operation.early_start == operation.late_start:\n",
    "            operation.is_critical = True\n",
    "            critical_path.append(op_id)\n",
    "\n",
    "    return critical_path"
   ]
  },
  {
   "cell_type": "code",
   "execution_count": null,
   "metadata": {},
   "outputs": [
    {
     "name": "stderr",
     "output_type": "stream",
     "text": [
      "11683it [07:53, 24.67it/s]\n"
     ]
    }
   ],
   "source": [
    "ope_manager = OperationManager()\n",
    "\n",
    "for order in tqdm(df_orders.itertuples(index=True, name='Pandas')):\n",
    "    order_id = order.NOF\n",
    "    order_artic = order.CODEARTIC\n",
    "    order_artic_ver = order.VERSION\n",
    "    order_quantity = int(order.QTE)\n",
    "\n",
    "    order_art_info = df_art.loc[(df_art['CODEARTIC'] == order_artic) & (df_art['VER_CODEARTIC'] == order_artic_ver)]\n",
    "\n",
    "    if len(order_art_info) > 1:\n",
    "        print('Error art_info', order_id)\n",
    "\n",
    "    order_route  = order_art_info.iloc[0]['NOMG']\n",
    "    order_operations = df_gamm.loc[df_gamm['NOMG'] == order_route].sort_values(by='START_PHASE')\n",
    "\n",
    "    for operation in order_operations.itertuples(index=True, name='Pandas'):\n",
    "        operation_duration = int(operation.RUC*order_quantity*60)\n",
    "        operation_phase = int(operation.START_PHASE)\n",
    "        \n",
    "        operation_successors=np.empty(shape=(0,))\n",
    "\n",
    "        op_id = order_route + '/_/' + str(operation_phase)\n",
    "\n",
    "        if not pd.isna(operation.END_PHASE):\n",
    "            operation_phase_next = int(operation.END_PHASE)\n",
    "            op_id_next = order_route + '/_/' + str(operation_phase_next)\n",
    "            operation_successors = np.append(operation_successors, op_id_next)\n",
    "\n",
    "            if ope_manager.get_operation(op_id_next) is None:\n",
    "                ope_manager.add_operation(op_id=op_id_next, order_id=order_id, phase=operation_phase, route=order_route, duration=None, \n",
    "                    predecessors=np.array([op_id]), successors=np.empty(shape=(0,)), resources=np.empty(shape=(0,)))\n",
    "            else:\n",
    "                operation = ope_manager.get_operation(op_id_next)\n",
    "                operation.predecessors = np.append(operation.predecessors, op_id)\n",
    "            \n",
    "\n",
    "        operation_suc = df_links.loc[(df_links['B_O_NOF'] == order_route) & (df_links['B_O_NOPHASE'] == operation_phase)]\n",
    "\n",
    "        for suc in operation_suc.itertuples(index=True, name='Pandas'):\n",
    "            suc_op_order = suc.NOF\n",
    "            suc_op_phase = int(suc.NOPHASE)\n",
    "            \n",
    "            suc_id = suc_op_order + '/_/' + str(suc_op_phase)\n",
    "\n",
    "            operation_successors = np.append(operation_successors, suc_id)\n",
    "\n",
    "            if ope_manager.get_operation(suc_id) is None:\n",
    "                ope_manager.add_operation(op_id=suc_id, order_id=suc_op_order, phase=suc_op_phase, route=suc_op_order, duration=None, \n",
    "                    predecessors=np.array([op_id]), successors=np.empty(shape=(0,)), resources=np.empty(shape=(0,)))\n",
    "            else:\n",
    "                operation = ope_manager.get_operation(suc_id)\n",
    "                operation.predecessors = np.append(operation.predecessors, op_id)\n",
    "       \n",
    "\n",
    "        if ope_manager.get_operation(op_id) is None:\n",
    "            ope_manager.add_operation(op_id=op_id, order_id=order_id, phase=operation_phase, route=order_route, duration=operation_duration, \n",
    "                predecessors=np.empty(shape=(0,)), successors=operation_successors, resources=np.empty(shape=(0,)))\n",
    "        else:\n",
    "            operation = ope_manager.get_operation(op_id)\n",
    "            operation.successors = np.append(operation.successors, operation_successors)\n",
    "            operation.duration=operation_duration\n"
   ]
  },
  {
   "cell_type": "code",
   "execution_count": null,
   "metadata": {},
   "outputs": [],
   "source": [
    "ope_manager.save_to_db('operations.db')"
   ]
  },
  {
   "cell_type": "code",
   "execution_count": null,
   "metadata": {},
   "outputs": [],
   "source": [
    "op_manager = OperationManager()\n",
    "op_manager.load_from_db('operations.db')"
   ]
  },
  {
   "cell_type": "code",
   "execution_count": null,
   "metadata": {},
   "outputs": [
    {
     "name": "stdout",
     "output_type": "stream",
     "text": [
      "Критический путь: ['C000195588/_/100020', 'C000195588/_/100010', 'C000195588/_/100030', 'C000195588/_/200010', 'C000195588/_/300010', 'C000195588/_/300020', 'C000195588/_/300030', 'C000195588/_/300040', 'C000195588/_/300050', 'C000195588/_/300060', 'C000195588/_/300070', 'C000195588/_/300080', 'C000195588/_/300090', 'C000195588/_/300100', 'C000195588/_/300110', 'C000195588/_/300120', 'C000195588/_/300130', 'C000195588/_/300140', 'C000195588/_/400010', 'C000195588/_/400020', 'C000195588/_/400030', 'C000195588/_/400040', 'C000195588/_/400050', 'C000195588/_/400060', 'C000195588/_/400070', 'C000195588/_/500010', 'C000195588/_/500020', 'C000195588/_/500030', 'C000195588/_/500040', 'C000195588/_/500050', 'C000195588/_/500060', 'C000195588/_/500070', 'C000195588/_/500080', 'C000195588/_/500090', 'C000195588/_/500100', 'C000195588/_/500110', 'C000195588/_/500120', 'C000195588/_/500130', 'C000195588/_/500140', 'C000195588/_/500150', 'C000195588/_/500160', 'C000195588/_/500170', 'C000195588/_/500180', 'C000195588/_/600010', 'C000195588/_/600020', 'C000195588/_/600030', 'C000195588/_/600040', 'C000195588/_/600050', 'C000195588/_/600060', 'C000195588/_/600070', 'C000195588/_/600080']\n"
     ]
    }
   ],
   "source": [
    "pzm_critical_path = compute_critical_path(ope_manager)\n",
    "print(\"Критический путь:\", pzm_critical_path)"
   ]
  },
  {
   "cell_type": "code",
   "execution_count": null,
   "metadata": {},
   "outputs": [],
   "source": [
    "ope_manager.save_to_csv('pzm_cpm.csv')"
   ]
  },
  {
   "cell_type": "code",
   "execution_count": null,
   "metadata": {},
   "outputs": [],
   "source": [
    "ope_manager.save_to_db('operations_rcpm.db')"
   ]
  },
  {
   "cell_type": "code",
   "execution_count": null,
   "metadata": {},
   "outputs": [
    {
     "name": "stderr",
     "output_type": "stream",
     "text": [
      "C:\\Users\\egor1\\AppData\\Local\\Temp\\ipykernel_17492\\1729912097.py:2: DeprecationWarning: DataFrameGroupBy.apply operated on the grouping columns. This behavior is deprecated, and in a future version of pandas the grouping columns will be excluded from the operation. Either pass `include_groups=False` to exclude the groupings or explicitly select the grouping columns after groupby to silence this warning.\n",
      "  machines = df_mach.groupby('ILOT').apply(\n"
     ]
    }
   ],
   "source": [
    "# machines = df_mach.groupby('ILOT').apply(lambda x: [[machine, 0] for machine in x['MACHINE']]).to_dict()\n",
    "machines = df_mach.groupby('ILOT').apply(\n",
    "        lambda x: {machine: 0 for machine in x['MACHINE']}\n",
    "    ).to_dict()"
   ]
  },
  {
   "cell_type": "code",
   "execution_count": null,
   "metadata": {},
   "outputs": [
    {
     "name": "stderr",
     "output_type": "stream",
     "text": [
      "100%|██████████| 272612/272612 [51:29<00:00, 88.23it/s]   \n"
     ]
    }
   ],
   "source": [
    "for operation in tqdm(sorted(ope_manager.operations.values(), key=lambda op: op.early_start)):\n",
    "\n",
    "    if operation.machine == None:\n",
    "        resources = df_cade.loc[(df_cade['NOMG'] == operation.order_id) & (df_cade['START_PHASE'] == operation.phase), 'ILOT'].tolist()\n",
    "        operation.resources = resources\n",
    "\n",
    "    else :\n",
    "        resources = operation.resources \n",
    "\n",
    "    min_release_time = float('inf') \n",
    "    min_machine = None\n",
    "    min_recource = None\n",
    "\n",
    "    for recource in resources:\n",
    "        if recource in machines:\n",
    "            for machine, release_time in machines[recource].items():\n",
    "                if release_time < min_release_time:\n",
    "                    min_release_time = release_time\n",
    "                    min_machine = machine\n",
    "                    min_recource = recource\n",
    "\n",
    "    operation_start_time = max(min_release_time, operation.early_start)\n",
    "    machines[min_recource][min_machine] = operation_start_time + operation.duration\n",
    "\n",
    "    delta = operation_start_time - operation.early_start\n",
    "\n",
    "    operation.early_start += delta\n",
    "    operation.early_finish += delta\n",
    "    operation.late_start += delta\n",
    "    operation.late_finish += delta\n",
    "\n",
    "    operation.machine = min_machine\n",
    "\n",
    "        "
   ]
  },
  {
   "cell_type": "code",
   "execution_count": null,
   "metadata": {},
   "outputs": [],
   "source": [
    "ope_manager.save_to_db('operations_rcpm.db')"
   ]
  },
  {
   "cell_type": "code",
   "execution_count": null,
   "metadata": {},
   "outputs": [],
   "source": [
    "ope_manager.save_to_csv('pzm_rcpm.csv')"
   ]
  },
  {
   "cell_type": "code",
   "execution_count": null,
   "metadata": {},
   "outputs": [],
   "source": []
  }
 ],
 "metadata": {
  "kernelspec": {
   "display_name": "Python 3",
   "language": "python",
   "name": "python3"
  },
  "language_info": {
   "codemirror_mode": {
    "name": "ipython",
    "version": 3
   },
   "file_extension": ".py",
   "mimetype": "text/x-python",
   "name": "python",
   "nbconvert_exporter": "python",
   "pygments_lexer": "ipython3",
   "version": "3.9.13"
  }
 },
 "nbformat": 4,
 "nbformat_minor": 2
}
